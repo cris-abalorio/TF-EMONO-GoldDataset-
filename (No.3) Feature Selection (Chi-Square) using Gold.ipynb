{
 "cells": [
  {
   "cell_type": "markdown",
   "id": "b07fb45a",
   "metadata": {},
   "source": [
    "# 1. Load the bulk .npy files and concatenate into single array "
   ]
  },
  {
   "cell_type": "code",
   "execution_count": 3,
   "id": "f200f4fc",
   "metadata": {},
   "outputs": [
    {
     "data": {
      "text/plain": [
       "(5113, 13970)"
      ]
     },
     "execution_count": 3,
     "metadata": {},
     "output_type": "execute_result"
    }
   ],
   "source": [
    "from sklearn.model_selection import train_test_split\n",
    "# For TF MONO Ratio Only (enhanced)\n",
    "\n",
    "import numpy as np\n",
    "\n",
    "#a = np.load(\"EMONO_2_FULL_VALUES.npy\")\n",
    "a = np.load(\"TF-EMONO-3_13970.npy\")\n",
    "\n",
    "\n",
    "#X = a[:-1]\n",
    "#X = a[1:][:] #to deduct length\n",
    "X = a #for exact length of rows\n",
    "\n",
    "\n",
    "X[0][0]\n",
    "X.shape"
   ]
  },
  {
   "cell_type": "raw",
   "id": "a8fce52d",
   "metadata": {},
   "source": [
    "# For TF MONO  Only (orig)\n",
    "import numpy as np\n",
    "\n",
    "a = np.load(\"12418_SingleFile_float_16_correctTF_MONO.npy\")\n",
    "X = a[1:]\n",
    "X.shape\n",
    "#X[0][0]"
   ]
  },
  {
   "cell_type": "markdown",
   "id": "96dca009",
   "metadata": {},
   "source": [
    "# 2. Load the class label file class_label.txt"
   ]
  },
  {
   "cell_type": "code",
   "execution_count": 4,
   "id": "a19d65ce",
   "metadata": {},
   "outputs": [],
   "source": [
    "# 'reuters21578 _enc.txt' class label or y of 7125 rows \n",
    "y=np.genfromtxt('class_label.txt', delimiter=',', dtype='int32', skip_header=1)\n",
    "X_train, X_test, y_train, y_test = train_test_split(X, y, test_size=0.33, random_state=42)"
   ]
  },
  {
   "cell_type": "markdown",
   "id": "01e252df",
   "metadata": {},
   "source": [
    "# 3. Sarnders-twitter-sentiment-corpus.csv to obtain Features"
   ]
  },
  {
   "cell_type": "code",
   "execution_count": 5,
   "id": "72cdee93",
   "metadata": {},
   "outputs": [],
   "source": [
    "import numpy as np\n",
    "\n",
    "import pandas as pd\n",
    "data=pd.read_csv('Sarnders-twitter-sentiment-corpus.csv')\n",
    "\n",
    "import nltk\n",
    "stopwords = nltk.corpus.stopwords.words('english')\n",
    "\n",
    "import string\n",
    "import re\n",
    "\n",
    "from nltk.stem import PorterStemmer\n",
    "ps = PorterStemmer()\n",
    "\n",
    "from math import *"
   ]
  },
  {
   "cell_type": "markdown",
   "id": "35111bbe",
   "metadata": {},
   "source": [
    "# 4. Pre-processing"
   ]
  },
  {
   "cell_type": "code",
   "execution_count": 6,
   "id": "f3038352",
   "metadata": {},
   "outputs": [],
   "source": [
    "#Pre-processing\n",
    "def clean_text(txt):\n",
    "    txt = \"\".join([c for c in txt if c not in string.punctuation])\n",
    "    tokens = re.split('\\W+',txt)\n",
    "    txt = [ps.stem(word) for word in tokens if word not in stopwords]\n",
    "    return txt"
   ]
  },
  {
   "cell_type": "markdown",
   "id": "0115b192",
   "metadata": {},
   "source": [
    "# 5. Generating Features"
   ]
  },
  {
   "cell_type": "code",
   "execution_count": 7,
   "id": "1dd5956c",
   "metadata": {},
   "outputs": [
    {
     "data": {
      "text/plain": [
       "(5113, 13970)"
      ]
     },
     "execution_count": 7,
     "metadata": {},
     "output_type": "execute_result"
    }
   ],
   "source": [
    "# Only simulate min_df = 0 for extracting 12418  features\n",
    "\n",
    "from sklearn.feature_extraction.text import CountVectorizer\n",
    "\n",
    "cv_vect = CountVectorizer(max_features = 13970, analyzer = clean_text, lowercase=True)\n",
    "#cv_vect = CountVectorizer(analyzer='word', encoding='utf-8', decode_error='strict', strip_accents=None, lowercase=True, preprocessor=None, tokenizer=None, stop_words='english', token_pattern='(?u)\\b\\w\\w+\\b', max_df=1.0, min_df=1, max_features=None, vocabulary=None, binary=False )\n",
    "\n",
    "XCV = cv_vect.fit(data['document'])\n",
    "X_CV = cv_vect.transform(data['document'])\n",
    "X_CV.shape"
   ]
  },
  {
   "cell_type": "code",
   "execution_count": 8,
   "id": "3d12a24b",
   "metadata": {},
   "outputs": [],
   "source": [
    "features = cv_vect.get_feature_names() #for 12418 "
   ]
  },
  {
   "cell_type": "code",
   "execution_count": 9,
   "id": "0523c9e1",
   "metadata": {},
   "outputs": [],
   "source": [
    "# tokenizing each row and transfering to row list\n",
    "row = data['document'].apply(lambda x: clean_text(x)) \n",
    "#row = cv_vect.inverse_transform(X_CV)"
   ]
  },
  {
   "cell_type": "code",
   "execution_count": 10,
   "id": "01353343",
   "metadata": {},
   "outputs": [],
   "source": [
    "# chi Square \n",
    "\n",
    "from sklearn.feature_selection import chi2\n",
    "f_p_values = chi2(X_train,y_train)\n",
    "\n",
    "p_values = pd.Series(f_p_values[0])\n",
    "p_values.index = features\n",
    "sorted_features = p_values.sort_values(ascending = True)"
   ]
  },
  {
   "cell_type": "code",
   "execution_count": 11,
   "id": "08a6d46c",
   "metadata": {},
   "outputs": [],
   "source": [
    "#f_p_values[0]"
   ]
  },
  {
   "cell_type": "code",
   "execution_count": 12,
   "id": "21511e67",
   "metadata": {},
   "outputs": [],
   "source": [
    "#f_p_values[1]"
   ]
  },
  {
   "cell_type": "markdown",
   "id": "05ce4365",
   "metadata": {},
   "source": [
    "#  Modify the Number of Features"
   ]
  },
  {
   "cell_type": "code",
   "execution_count": 13,
   "id": "cff7f6b5",
   "metadata": {},
   "outputs": [],
   "source": [
    "# Modify values for number of Features =  500, 1000, 2000, 3000, 4000, 5000 ... 10000\n",
    "\n",
    "num_features = 13970"
   ]
  },
  {
   "cell_type": "code",
   "execution_count": 14,
   "id": "e45f44c1",
   "metadata": {},
   "outputs": [],
   "source": [
    "selected_features=sorted_features[0:num_features]"
   ]
  },
  {
   "cell_type": "code",
   "execution_count": 15,
   "id": "3316db76",
   "metadata": {},
   "outputs": [
    {
     "data": {
      "text/plain": [
       "Index(['photo', 'engag', 'diss', 'rate', 'mich', 'hubo', 'httptc', 'moment',\n",
       "       'n', 'novidad',\n",
       "       ...\n",
       "       '益若つばさ', '直擊', '稼ぐ', '蘋果及', '講習中appl', '谷歌三星智能手機發布會httptcosfblwqjg',\n",
       "       '跟', '４', '６５型の有機ｅｌ画面を採用', 'ｺｺ'],\n",
       "      dtype='object', length=13970)"
      ]
     },
     "execution_count": 15,
     "metadata": {},
     "output_type": "execute_result"
    }
   ],
   "source": [
    "selected_features.index"
   ]
  },
  {
   "cell_type": "code",
   "execution_count": 22,
   "id": "f991766a",
   "metadata": {},
   "outputs": [
    {
     "data": {
      "text/plain": [
       "(13970,)"
      ]
     },
     "execution_count": 22,
     "metadata": {},
     "output_type": "execute_result"
    }
   ],
   "source": [
    "# For TF MONO Ratio Only:\n",
    "##################PostGlobalMONO = np.genfromtxt('GlobalMONO_Ratio_12418.txt', delimiter=',', dtype='float16') #for 12418 features\n",
    "\n",
    "# For TF MONO  Only:\n",
    "#PostGlobalMONO = np.genfromtxt('GlobalMONO_12418.txt', delimiter=',', dtype='float16') #for 12418 features\n",
    "\n",
    "# For TF MONO Ratio Distance H2 Only:\n",
    "#PostGlobalMONO = np.genfromtxt('Global_MONO_Distance_H2.txt', delimiter=',', dtype='float16') #for 12418 features\n",
    "\n",
    "# H3 ------ For TF MONO Ratio Distance H3 Only:\n",
    "#PostGlobalMONO = np.genfromtxt('Global_MONO_Distance_H3.txt', delimiter=',', dtype='float16') #for 12418 features\n",
    "\n",
    "# H4 ------ For TF MONO Ratio Distance H4 Only:\n",
    "#PostGlobalMONO = np.genfromtxt('Global_MONO_Distance_H4.txt', delimiter=',', dtype='float16') #for 12418 features\n",
    "\n",
    "\n",
    "\n",
    "#PostGlobalMONO = np.genfromtxt('Global_MONO_H1.txt', delimiter=',', dtype='float16') \n",
    "\n",
    "#EMO = 2\n",
    "PostGlobalMONO = np.genfromtxt('EMO_3-13970.txt', delimiter=',', dtype='float16') \n",
    "\n",
    "\n",
    "PostGlobalMONO.shape"
   ]
  },
  {
   "cell_type": "code",
   "execution_count": 23,
   "id": "4b494874",
   "metadata": {},
   "outputs": [],
   "source": [
    "PostGlobalMONO = PostGlobalMONO.astype(\"float16\")"
   ]
  },
  {
   "cell_type": "code",
   "execution_count": 24,
   "id": "5a71c297",
   "metadata": {},
   "outputs": [],
   "source": [
    "# Creating a Data Frame for Global Mono from generated computing in excel containing 2 columns = features and 1 + GlobalMONO * 6.0\n",
    "df_PostGlobalMONO = pd.DataFrame(data={'Features': features, 'Global_Mono': PostGlobalMONO, 'p_values': p_values})"
   ]
  },
  {
   "cell_type": "code",
   "execution_count": 25,
   "id": "5f905940",
   "metadata": {},
   "outputs": [
    {
     "data": {
      "text/html": [
       "<div>\n",
       "<style scoped>\n",
       "    .dataframe tbody tr th:only-of-type {\n",
       "        vertical-align: middle;\n",
       "    }\n",
       "\n",
       "    .dataframe tbody tr th {\n",
       "        vertical-align: top;\n",
       "    }\n",
       "\n",
       "    .dataframe thead th {\n",
       "        text-align: right;\n",
       "    }\n",
       "</style>\n",
       "<table border=\"1\" class=\"dataframe\">\n",
       "  <thead>\n",
       "    <tr style=\"text-align: right;\">\n",
       "      <th></th>\n",
       "      <th>Features</th>\n",
       "      <th>Global_Mono</th>\n",
       "      <th>p_values</th>\n",
       "    </tr>\n",
       "  </thead>\n",
       "  <tbody>\n",
       "    <tr>\n",
       "      <th></th>\n",
       "      <td></td>\n",
       "      <td>1.000000</td>\n",
       "      <td>0.106914</td>\n",
       "    </tr>\n",
       "    <tr>\n",
       "      <th>0</th>\n",
       "      <td>0</td>\n",
       "      <td>1.928711</td>\n",
       "      <td>1.443085</td>\n",
       "    </tr>\n",
       "    <tr>\n",
       "      <th>000</th>\n",
       "      <td>000</td>\n",
       "      <td>1.021484</td>\n",
       "      <td>0.091825</td>\n",
       "    </tr>\n",
       "    <tr>\n",
       "      <th>01</th>\n",
       "      <td>01</td>\n",
       "      <td>1.158203</td>\n",
       "      <td>NaN</td>\n",
       "    </tr>\n",
       "    <tr>\n",
       "      <th>0150</th>\n",
       "      <td>0150</td>\n",
       "      <td>1.000000</td>\n",
       "      <td>0.200380</td>\n",
       "    </tr>\n",
       "    <tr>\n",
       "      <th>...</th>\n",
       "      <td>...</td>\n",
       "      <td>...</td>\n",
       "      <td>...</td>\n",
       "    </tr>\n",
       "    <tr>\n",
       "      <th>顔認識ロック解除失敗してる</th>\n",
       "      <td>顔認識ロック解除失敗してる</td>\n",
       "      <td>1.000000</td>\n",
       "      <td>0.659259</td>\n",
       "    </tr>\n",
       "    <tr>\n",
       "      <th>４</th>\n",
       "      <td>４</td>\n",
       "      <td>1.000000</td>\n",
       "      <td>NaN</td>\n",
       "    </tr>\n",
       "    <tr>\n",
       "      <th>６５型の有機ｅｌ画面を採用</th>\n",
       "      <td>６５型の有機ｅｌ画面を採用</td>\n",
       "      <td>1.000000</td>\n",
       "      <td>NaN</td>\n",
       "    </tr>\n",
       "    <tr>\n",
       "      <th>ｏｓ</th>\n",
       "      <td>ｏｓ</td>\n",
       "      <td>1.000000</td>\n",
       "      <td>0.141270</td>\n",
       "    </tr>\n",
       "    <tr>\n",
       "      <th>ｺｺ</th>\n",
       "      <td>ｺｺ</td>\n",
       "      <td>1.000000</td>\n",
       "      <td>NaN</td>\n",
       "    </tr>\n",
       "  </tbody>\n",
       "</table>\n",
       "<p>13970 rows × 3 columns</p>\n",
       "</div>"
      ],
      "text/plain": [
       "                    Features  Global_Mono  p_values\n",
       "                                 1.000000  0.106914\n",
       "0                          0     1.928711  1.443085\n",
       "000                      000     1.021484  0.091825\n",
       "01                        01     1.158203       NaN\n",
       "0150                    0150     1.000000  0.200380\n",
       "...                      ...          ...       ...\n",
       "顔認識ロック解除失敗してる  顔認識ロック解除失敗してる     1.000000  0.659259\n",
       "４                          ４     1.000000       NaN\n",
       "６５型の有機ｅｌ画面を採用  ６５型の有機ｅｌ画面を採用     1.000000       NaN\n",
       "ｏｓ                        ｏｓ     1.000000  0.141270\n",
       "ｺｺ                        ｺｺ     1.000000       NaN\n",
       "\n",
       "[13970 rows x 3 columns]"
      ]
     },
     "execution_count": 25,
     "metadata": {},
     "output_type": "execute_result"
    }
   ],
   "source": [
    "df_PostGlobalMONO"
   ]
  },
  {
   "cell_type": "code",
   "execution_count": 26,
   "id": "2ab01702",
   "metadata": {},
   "outputs": [
    {
     "data": {
      "text/plain": [
       "                 0.106914\n",
       "0                1.443085\n",
       "000              0.091825\n",
       "01                    NaN\n",
       "0150             0.200380\n",
       "                   ...   \n",
       "顔認識ロック解除失敗してる    0.659259\n",
       "４                     NaN\n",
       "６５型の有機ｅｌ画面を採用         NaN\n",
       "ｏｓ               0.141270\n",
       "ｺｺ                    NaN\n",
       "Length: 13970, dtype: float64"
      ]
     },
     "execution_count": 26,
     "metadata": {},
     "output_type": "execute_result"
    }
   ],
   "source": [
    "p_values"
   ]
  },
  {
   "cell_type": "code",
   "execution_count": 27,
   "id": "dcf26b77",
   "metadata": {},
   "outputs": [
    {
     "data": {
      "text/html": [
       "<div>\n",
       "<style scoped>\n",
       "    .dataframe tbody tr th:only-of-type {\n",
       "        vertical-align: middle;\n",
       "    }\n",
       "\n",
       "    .dataframe tbody tr th {\n",
       "        vertical-align: top;\n",
       "    }\n",
       "\n",
       "    .dataframe thead th {\n",
       "        text-align: right;\n",
       "    }\n",
       "</style>\n",
       "<table border=\"1\" class=\"dataframe\">\n",
       "  <thead>\n",
       "    <tr style=\"text-align: right;\">\n",
       "      <th></th>\n",
       "      <th>Features</th>\n",
       "      <th>Global_Mono</th>\n",
       "      <th>p_values</th>\n",
       "    </tr>\n",
       "  </thead>\n",
       "  <tbody>\n",
       "    <tr>\n",
       "      <th>de</th>\n",
       "      <td>de</td>\n",
       "      <td>2.390625</td>\n",
       "      <td>130.047681</td>\n",
       "    </tr>\n",
       "    <tr>\n",
       "      <th>en</th>\n",
       "      <td>en</td>\n",
       "      <td>2.736328</td>\n",
       "      <td>75.831365</td>\n",
       "    </tr>\n",
       "    <tr>\n",
       "      <th>appl</th>\n",
       "      <td>appl</td>\n",
       "      <td>1.956055</td>\n",
       "      <td>63.614853</td>\n",
       "    </tr>\n",
       "    <tr>\n",
       "      <th>el</th>\n",
       "      <td>el</td>\n",
       "      <td>2.119141</td>\n",
       "      <td>37.022322</td>\n",
       "    </tr>\n",
       "    <tr>\n",
       "      <th>love</th>\n",
       "      <td>love</td>\n",
       "      <td>1.000000</td>\n",
       "      <td>28.064497</td>\n",
       "    </tr>\n",
       "    <tr>\n",
       "      <th>...</th>\n",
       "      <td>...</td>\n",
       "      <td>...</td>\n",
       "      <td>...</td>\n",
       "    </tr>\n",
       "    <tr>\n",
       "      <th>谷歌三星智能手機發布會httptcosfblwqjg</th>\n",
       "      <td>谷歌三星智能手機發布會httptcosfblwqjg</td>\n",
       "      <td>1.000000</td>\n",
       "      <td>NaN</td>\n",
       "    </tr>\n",
       "    <tr>\n",
       "      <th>跟</th>\n",
       "      <td>跟</td>\n",
       "      <td>1.000000</td>\n",
       "      <td>NaN</td>\n",
       "    </tr>\n",
       "    <tr>\n",
       "      <th>４</th>\n",
       "      <td>４</td>\n",
       "      <td>1.000000</td>\n",
       "      <td>NaN</td>\n",
       "    </tr>\n",
       "    <tr>\n",
       "      <th>６５型の有機ｅｌ画面を採用</th>\n",
       "      <td>６５型の有機ｅｌ画面を採用</td>\n",
       "      <td>1.000000</td>\n",
       "      <td>NaN</td>\n",
       "    </tr>\n",
       "    <tr>\n",
       "      <th>ｺｺ</th>\n",
       "      <td>ｺｺ</td>\n",
       "      <td>1.000000</td>\n",
       "      <td>NaN</td>\n",
       "    </tr>\n",
       "  </tbody>\n",
       "</table>\n",
       "<p>13970 rows × 3 columns</p>\n",
       "</div>"
      ],
      "text/plain": [
       "                                              Features  Global_Mono  \\\n",
       "de                                                  de     2.390625   \n",
       "en                                                  en     2.736328   \n",
       "appl                                              appl     1.956055   \n",
       "el                                                  el     2.119141   \n",
       "love                                              love     1.000000   \n",
       "...                                                ...          ...   \n",
       "谷歌三星智能手機發布會httptcosfblwqjg  谷歌三星智能手機發布會httptcosfblwqjg     1.000000   \n",
       "跟                                                    跟     1.000000   \n",
       "４                                                    ４     1.000000   \n",
       "６５型の有機ｅｌ画面を採用                            ６５型の有機ｅｌ画面を採用     1.000000   \n",
       "ｺｺ                                                  ｺｺ     1.000000   \n",
       "\n",
       "                              p_values  \n",
       "de                          130.047681  \n",
       "en                           75.831365  \n",
       "appl                         63.614853  \n",
       "el                           37.022322  \n",
       "love                         28.064497  \n",
       "...                                ...  \n",
       "谷歌三星智能手機發布會httptcosfblwqjg         NaN  \n",
       "跟                                  NaN  \n",
       "４                                  NaN  \n",
       "６５型の有機ｅｌ画面を採用                      NaN  \n",
       "ｺｺ                                 NaN  \n",
       "\n",
       "[13970 rows x 3 columns]"
      ]
     },
     "execution_count": 27,
     "metadata": {},
     "output_type": "execute_result"
    }
   ],
   "source": [
    "# displaying created dataframe\n",
    "filtered_df_PostGlobalMONO = df_PostGlobalMONO.sort_values(by = ['p_values'], ascending = False)\n",
    "res_df_PostGlobalMONO=filtered_df_PostGlobalMONO.head(num_features)\n",
    "res_df_PostGlobalMONO"
   ]
  },
  {
   "cell_type": "code",
   "execution_count": 28,
   "id": "829289fe",
   "metadata": {},
   "outputs": [
    {
     "data": {
      "text/plain": [
       "de                            2.390625\n",
       "en                            2.736328\n",
       "appl                          1.956055\n",
       "el                            2.119141\n",
       "love                          1.000000\n",
       "                                ...   \n",
       "谷歌三星智能手機發布會httptcosfblwqjg    1.000000\n",
       "跟                             1.000000\n",
       "４                             1.000000\n",
       "６５型の有機ｅｌ画面を採用                 1.000000\n",
       "ｺｺ                            1.000000\n",
       "Name: Global_Mono, Length: 13970, dtype: float16"
      ]
     },
     "execution_count": 28,
     "metadata": {},
     "output_type": "execute_result"
    }
   ],
   "source": [
    "# Chi2 max Features 500, 1000, 2000, 3000, 4000, 5000 ... 10000\n",
    "chi2max_df_PostGlobalMONO = filtered_df_PostGlobalMONO['Global_Mono'][0:num_features]\n",
    "chi2max_df_PostGlobalMONO"
   ]
  },
  {
   "cell_type": "code",
   "execution_count": 29,
   "id": "e45d1700",
   "metadata": {},
   "outputs": [
    {
     "data": {
      "text/plain": [
       "Index(['de', 'en', 'appl', 'el', 'love', 'que', 'i', 'es', 'la', 'fail',\n",
       "       ...\n",
       "       '益若つばさ', '直擊', '稼ぐ', '蘋果及', '講習中appl', '谷歌三星智能手機發布會httptcosfblwqjg',\n",
       "       '跟', '４', '６５型の有機ｅｌ画面を採用', 'ｺｺ'],\n",
       "      dtype='object', length=13970)"
      ]
     },
     "execution_count": 29,
     "metadata": {},
     "output_type": "execute_result"
    }
   ],
   "source": [
    "chi2max_df_PostGlobalMONO.index"
   ]
  },
  {
   "cell_type": "code",
   "execution_count": 30,
   "id": "2fe08ab4",
   "metadata": {},
   "outputs": [],
   "source": [
    "from math import *"
   ]
  },
  {
   "cell_type": "code",
   "execution_count": 31,
   "id": "47505c4a",
   "metadata": {},
   "outputs": [
    {
     "data": {
      "text/plain": [
       "(5113, 13970)"
      ]
     },
     "execution_count": 31,
     "metadata": {},
     "output_type": "execute_result"
    }
   ],
   "source": [
    "temp = np.zeros((1,num_features), dtype=\"float16\")\n",
    "TF_MONO_TABLE = pd.DataFrame(np.zeros((1,num_features )))\n",
    "\n",
    "from collections import Counter\n",
    "\n",
    "\n",
    "DF_counter = 0\n",
    "numOfDocs = 5113\n",
    "#limit = 8324\n",
    "# 6 minutes is 1k rows for 12418 features\n",
    "# 2 minutes is 1k rows for 500 features\n",
    "for i in range(1,numOfDocs):\n",
    "    for j in row[i]:\n",
    "        \n",
    "        tf = row[i].count(j) / len(row[i])\n",
    "                          \n",
    "               \n",
    "        \n",
    "        #print(tf)\n",
    "       \n",
    "        #print(\"tf OF {} = {} / {} = {}\".format(j,data['document'][i].count(j),len(row[i]),tf))\n",
    "        \n",
    "    \n",
    "        \n",
    "        index_of_term = np.where(res_df_PostGlobalMONO == j)\n",
    "        actual_index = index_of_term[0]\n",
    "        \n",
    "        # MONOfromDataFrame Represent the MONO in every row / document:\n",
    "        MONOfromDataFrame = res_df_PostGlobalMONO['Global_Mono'].iloc[actual_index]\n",
    "      \n",
    "        ###print(\"Actual index is {}\".format(actual_index))\n",
    "        \n",
    "                \n",
    "         # A. TF MONO:\n",
    "        #TF_MONO_result = tf * MONOfromDataFrame\n",
    "        \n",
    "        # B. Squared Root TF MONO:\n",
    "        TF_MONO_result = sqrt(tf) * MONOfromDataFrame\n",
    "        \n",
    "        #-------------------------------\n",
    "        # C. TF-IDF\n",
    "        #IDF = log(numOfDocs/DF_counter)\n",
    "        #TF_MONO_result = tf * IDF\n",
    "        #-------------------------------\n",
    "        \n",
    "        ###print(\"[Row {}] TF OF {} = {} / {} = {}\".format(i+1,j,row[i].count(j),len(row[i]),tf))\n",
    "        ###print(\"* Global MONO of \")\n",
    "        ###print(res_df_PostGlobalMONO['Features'].iloc[actual_index])\n",
    "        ###print(MONOfromDataFrame)\n",
    "        ###print(\"The result is {}\".format(TF_MONO_result))\n",
    "        ###print(\"------------------------------------------------------------\")\n",
    "        #print(j,tf, df_PostGlobalMONO['Global_Mono'].iloc[actual_index], TF_MONO_result)\n",
    "        \n",
    "        temp[0][actual_index] = TF_MONO_result\n",
    "        \n",
    "        # Coverting Temp Array into Data Frame\n",
    "#Modify here 6:\n",
    "    First_Result = pd.DataFrame(temp, columns = chi2max_df_PostGlobalMONO.index)\n",
    "    First_Result = First_Result.astype(\"float16\")\n",
    "    temp = np.zeros((1,num_features), dtype=\"float16\")\n",
    "    \n",
    "    TF_MONO_TABLE = np.append(TF_MONO_TABLE, np.array(First_Result), axis=0)\n",
    "    \n",
    "    First_Result.drop(First_Result.index[:], inplace=True)\n",
    "# appending another dataframe as another row\n",
    "\n",
    "#TF_MONO_TABLE2 = pd.DataFrame(np.ones((1,29523)))\n",
    "\n",
    "#Modify here 7:\n",
    "\n",
    "#TF_MONO_TABLE = pd.DataFrame(Second_Result, columns = features)   \n",
    "TF_MONO_TABLE.shape"
   ]
  },
  {
   "cell_type": "markdown",
   "id": "c1104dd5",
   "metadata": {},
   "source": [
    "# Export result as numpy"
   ]
  },
  {
   "cell_type": "code",
   "execution_count": 32,
   "id": "d316bca5",
   "metadata": {},
   "outputs": [],
   "source": [
    "TF_MONO_TABLE = TF_MONO_TABLE.astype(\"float16\")\n",
    "\n",
    "np.save(\"FROM-TF-EMONO-3_13970-X2-TO-SRTF-EMONO_3-13970.npy\",TF_MONO_TABLE)"
   ]
  },
  {
   "cell_type": "code",
   "execution_count": 33,
   "id": "f47f331d",
   "metadata": {},
   "outputs": [],
   "source": [
    "#pd.DataFrame(TF_MONO_TABLE, columns = chi2max_df_PostGlobalMONO.index)  "
   ]
  },
  {
   "cell_type": "markdown",
   "id": "c9b4015c",
   "metadata": {},
   "source": [
    "# Clear numpy array / Data Frame"
   ]
  },
  {
   "cell_type": "code",
   "execution_count": 34,
   "id": "ede0bb8c",
   "metadata": {},
   "outputs": [
    {
     "data": {
      "text/plain": [
       "(1, 13970)"
      ]
     },
     "execution_count": 34,
     "metadata": {},
     "output_type": "execute_result"
    }
   ],
   "source": [
    "\n",
    "TF_MONO_TABLE = np.array([])\n",
    "\n",
    "#clear the array\n",
    "temp = np.zeros((1,num_features), dtype=\"float16\")\n",
    "temp.shape"
   ]
  },
  {
   "cell_type": "code",
   "execution_count": null,
   "id": "54b5bcbb",
   "metadata": {},
   "outputs": [],
   "source": []
  },
  {
   "cell_type": "code",
   "execution_count": null,
   "id": "ba49787e",
   "metadata": {},
   "outputs": [],
   "source": []
  },
  {
   "cell_type": "code",
   "execution_count": null,
   "id": "c6c8b4c4",
   "metadata": {},
   "outputs": [],
   "source": []
  },
  {
   "cell_type": "code",
   "execution_count": null,
   "id": "56dc7ef6",
   "metadata": {},
   "outputs": [],
   "source": []
  },
  {
   "cell_type": "code",
   "execution_count": null,
   "id": "5e4c63f9",
   "metadata": {},
   "outputs": [],
   "source": []
  },
  {
   "cell_type": "code",
   "execution_count": null,
   "id": "80e7e0e3",
   "metadata": {},
   "outputs": [],
   "source": []
  }
 ],
 "metadata": {
  "kernelspec": {
   "display_name": "Python 3 (ipykernel)",
   "language": "python",
   "name": "python3"
  },
  "language_info": {
   "codemirror_mode": {
    "name": "ipython",
    "version": 3
   },
   "file_extension": ".py",
   "mimetype": "text/x-python",
   "name": "python",
   "nbconvert_exporter": "python",
   "pygments_lexer": "ipython3",
   "version": "3.7.5"
  }
 },
 "nbformat": 4,
 "nbformat_minor": 5
}
