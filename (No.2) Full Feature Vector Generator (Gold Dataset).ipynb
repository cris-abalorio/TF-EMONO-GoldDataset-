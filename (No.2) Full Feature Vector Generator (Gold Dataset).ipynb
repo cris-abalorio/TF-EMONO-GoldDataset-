{
 "cells": [
  {
   "cell_type": "markdown",
   "id": "f5437168",
   "metadata": {},
   "source": [
    "#### Libraries"
   ]
  },
  {
   "cell_type": "code",
   "execution_count": 1,
   "id": "76c6a5a4",
   "metadata": {},
   "outputs": [],
   "source": [
    "import numpy as np\n",
    "\n",
    "import pandas as pd\n",
    "data=pd.read_csv('gold-dataset-sinha-khandait-NEWS-SOURCE-MERGED-VERSION.csv')\n",
    "import nltk\n",
    "stopwords = nltk.corpus.stopwords.words('english')\n",
    "import string\n",
    "import re\n",
    "\n",
    "from nltk.stem import PorterStemmer\n",
    "ps = PorterStemmer()\n"
   ]
  },
  {
   "cell_type": "markdown",
   "id": "65665d88",
   "metadata": {},
   "source": [
    "### Step 1. Global Mono From extracted dataset computed excel"
   ]
  },
  {
   "cell_type": "code",
   "execution_count": 2,
   "id": "579f11dc",
   "metadata": {},
   "outputs": [
    {
     "data": {
      "text/plain": [
       "(3203,)"
      ]
     },
     "execution_count": 2,
     "metadata": {},
     "output_type": "execute_result"
    }
   ],
   "source": [
    "PostGlobalMONO = np.genfromtxt('EMO_3-3203.txt', delimiter=',', dtype='float16') #for 12418 features\n",
    "PostGlobalMONO.shape"
   ]
  },
  {
   "cell_type": "code",
   "execution_count": 3,
   "id": "cea1ba42",
   "metadata": {},
   "outputs": [],
   "source": [
    "#Pre-processing\n",
    "def clean_text(txt):\n",
    "    txt = \"\".join([c for c in txt if c not in string.punctuation])\n",
    "    tokens = re.split('\\W+',txt)\n",
    "    txt = [ps.stem(word) for word in tokens if word not in stopwords]\n",
    "    return txt"
   ]
  },
  {
   "cell_type": "code",
   "execution_count": 4,
   "id": "f4c06227",
   "metadata": {},
   "outputs": [
    {
     "data": {
      "text/plain": [
       "(11412, 3203)"
      ]
     },
     "execution_count": 4,
     "metadata": {},
     "output_type": "execute_result"
    }
   ],
   "source": [
    "# Only simulate min_df = 2 for extracting 12418  features\n",
    "\n",
    "from sklearn.feature_extraction.text import CountVectorizer\n",
    "\n",
    "cv_vect = CountVectorizer(min_df=2, analyzer = clean_text, lowercase=True)\n",
    "#max_features=13970\n",
    "#min_df = 2\n",
    "#cv_vect = CountVectorizer(analyzer = clean_text, lowercase=True) #without min_df\n",
    "#cv_vect = CountVectorizer(analyzer='word', encoding='utf-8', decode_error='strict', strip_accents=None, lowercase=True, preprocessor=None, tokenizer=None, stop_words='english', token_pattern='(?u)\\b\\w\\w+\\b', max_df=1.0, min_df=1, max_features=None, vocabulary=None, binary=False )\n",
    "\n",
    "XCV = cv_vect.fit(data['document'])\n",
    "X_CV = cv_vect.transform(data['document'])\n",
    "X_CV.shape\n"
   ]
  },
  {
   "cell_type": "code",
   "execution_count": 5,
   "id": "c5abb596",
   "metadata": {},
   "outputs": [],
   "source": [
    "# features = vect.get_feature_names()  ---> simulate for 29k features\n",
    "\n",
    "features = cv_vect.get_feature_names() #for 12418 "
   ]
  },
  {
   "cell_type": "code",
   "execution_count": 6,
   "id": "2ad48680",
   "metadata": {},
   "outputs": [],
   "source": [
    "# Return terms per document with nonzero entries in X.\n",
    "inv = cv_vect.inverse_transform(X_CV)"
   ]
  },
  {
   "cell_type": "code",
   "execution_count": 7,
   "id": "a04d0db0",
   "metadata": {},
   "outputs": [
    {
     "data": {
      "text/plain": [
       "array(['20', 'cent', 'gold', 'settl'], dtype='<U152')"
      ]
     },
     "execution_count": 7,
     "metadata": {},
     "output_type": "execute_result"
    }
   ],
   "source": [
    "inv[0]\n"
   ]
  },
  {
   "cell_type": "code",
   "execution_count": 8,
   "id": "eb2a97ae",
   "metadata": {},
   "outputs": [],
   "source": [
    "PostGlobalMONO = PostGlobalMONO.astype(\"float16\")"
   ]
  },
  {
   "cell_type": "code",
   "execution_count": 9,
   "id": "6725a759",
   "metadata": {},
   "outputs": [],
   "source": [
    "# Creating a Data Frame for Global Mono from generated computing in excel containing 2 columns = features and 1 + GlobalMONO * 6.0\n",
    "df_PostGlobalMONO = pd.DataFrame(data={'Features': features, 'Global_Mono': PostGlobalMONO})"
   ]
  },
  {
   "cell_type": "code",
   "execution_count": 10,
   "id": "76c86faa",
   "metadata": {},
   "outputs": [
    {
     "data": {
      "text/html": [
       "<div>\n",
       "<style scoped>\n",
       "    .dataframe tbody tr th:only-of-type {\n",
       "        vertical-align: middle;\n",
       "    }\n",
       "\n",
       "    .dataframe tbody tr th {\n",
       "        vertical-align: top;\n",
       "    }\n",
       "\n",
       "    .dataframe thead th {\n",
       "        text-align: right;\n",
       "    }\n",
       "</style>\n",
       "<table border=\"1\" class=\"dataframe\">\n",
       "  <thead>\n",
       "    <tr style=\"text-align: right;\">\n",
       "      <th></th>\n",
       "      <th>Features</th>\n",
       "      <th>Global_Mono</th>\n",
       "    </tr>\n",
       "  </thead>\n",
       "  <tbody>\n",
       "    <tr>\n",
       "      <th>0</th>\n",
       "      <td></td>\n",
       "      <td>1.000000</td>\n",
       "    </tr>\n",
       "    <tr>\n",
       "      <th>1</th>\n",
       "      <td>005</td>\n",
       "      <td>1.175781</td>\n",
       "    </tr>\n",
       "    <tr>\n",
       "      <th>2</th>\n",
       "      <td>01</td>\n",
       "      <td>2.898438</td>\n",
       "    </tr>\n",
       "    <tr>\n",
       "      <th>3</th>\n",
       "      <td>010</td>\n",
       "      <td>1.198242</td>\n",
       "    </tr>\n",
       "    <tr>\n",
       "      <th>4</th>\n",
       "      <td>011</td>\n",
       "      <td>1.219727</td>\n",
       "    </tr>\n",
       "    <tr>\n",
       "      <th>...</th>\n",
       "      <td>...</td>\n",
       "      <td>...</td>\n",
       "    </tr>\n",
       "    <tr>\n",
       "      <th>3198</th>\n",
       "      <td>yuan</td>\n",
       "      <td>1.005859</td>\n",
       "    </tr>\n",
       "    <tr>\n",
       "      <th>3199</th>\n",
       "      <td>yy</td>\n",
       "      <td>1.000000</td>\n",
       "    </tr>\n",
       "    <tr>\n",
       "      <th>3200</th>\n",
       "      <td>zinc</td>\n",
       "      <td>1.007812</td>\n",
       "    </tr>\n",
       "    <tr>\n",
       "      <th>3201</th>\n",
       "      <td>zone</td>\n",
       "      <td>1.009766</td>\n",
       "    </tr>\n",
       "    <tr>\n",
       "      <th>3202</th>\n",
       "      <td>zoom</td>\n",
       "      <td>1.000000</td>\n",
       "    </tr>\n",
       "  </tbody>\n",
       "</table>\n",
       "<p>3203 rows × 2 columns</p>\n",
       "</div>"
      ],
      "text/plain": [
       "     Features  Global_Mono\n",
       "0                 1.000000\n",
       "1         005     1.175781\n",
       "2          01     2.898438\n",
       "3         010     1.198242\n",
       "4         011     1.219727\n",
       "...       ...          ...\n",
       "3198     yuan     1.005859\n",
       "3199       yy     1.000000\n",
       "3200     zinc     1.007812\n",
       "3201     zone     1.009766\n",
       "3202     zoom     1.000000\n",
       "\n",
       "[3203 rows x 2 columns]"
      ]
     },
     "execution_count": 10,
     "metadata": {},
     "output_type": "execute_result"
    }
   ],
   "source": [
    "# displaying created dataframe\n",
    "df_PostGlobalMONO"
   ]
  },
  {
   "cell_type": "code",
   "execution_count": 11,
   "id": "2aecee67",
   "metadata": {},
   "outputs": [],
   "source": [
    "# tokenizing each row and transfering to row list\n",
    "row = data['document'].apply(lambda x: clean_text(x)) \n",
    "#row = cv_vect.inverse_transform(X_CV)"
   ]
  },
  {
   "cell_type": "code",
   "execution_count": 12,
   "id": "2bd8f499",
   "metadata": {},
   "outputs": [
    {
     "data": {
      "text/plain": [
       "['httpwwwmarketwatchcomstoryaprilgolddown20centstosettleat111610oz20160128april',\n",
       " 'gold',\n",
       " '20',\n",
       " 'cent',\n",
       " 'settl',\n",
       " '111610oz']"
      ]
     },
     "execution_count": 12,
     "metadata": {},
     "output_type": "execute_result"
    }
   ],
   "source": [
    "row[0]"
   ]
  },
  {
   "cell_type": "markdown",
   "id": "6868a5e3",
   "metadata": {},
   "source": [
    "# Auto Loop for  AVE (Generating TF AVE(MO)NO 12418 Feature Vectors) in 7512 rows"
   ]
  },
  {
   "cell_type": "code",
   "execution_count": 16,
   "id": "7e55cec3",
   "metadata": {},
   "outputs": [
    {
     "data": {
      "text/plain": [
       "(11413, 3203)"
      ]
     },
     "execution_count": 16,
     "metadata": {},
     "output_type": "execute_result"
    }
   ],
   "source": [
    "from math import *\n",
    "num_features = 3203 \n",
    "temp = np.zeros((1,num_features), dtype=\"float64\")\n",
    "TF_MONO_TABLE = pd.DataFrame(np.zeros((1,num_features )))\n",
    "\n",
    "numOfDocs = 11412\n",
    "#limit = 8324\n",
    "#6 minutes is 1k rows\n",
    "for i in range(0,numOfDocs):\n",
    "    for j in row[i]:\n",
    "        \n",
    "        tf = row[i].count(j) / len(row[i])\n",
    "        #print(tf)\n",
    "       \n",
    "        #print(\"tf OF {} = {} / {} = {}\".format(j,data['document'][i].count(j),len(row[i]),tf))\n",
    "        \n",
    "    \n",
    "        \n",
    "        index_of_term = np.where(df_PostGlobalMONO == j)\n",
    "        actual_index = index_of_term[0]\n",
    "        \n",
    "        # MONOfromDataFrame Represent the MONO in every row / document:\n",
    "        MONOfromDataFrame = df_PostGlobalMONO['Global_Mono'].iloc[actual_index]\n",
    "      \n",
    "    \n",
    "        TF_MONO_result = sqrt(tf) * MONOfromDataFrame\n",
    "        #print(\"[Row {}] TF OF {} = {} / {} = {}\".format(i+1,j,row[i].count(j),len(row[i]),tf))\n",
    "        #print(\"* Global MONO of \")\n",
    "        #print(df_PostGlobalMONO['Features'].iloc[actual_index])\n",
    "        #print(MONOfromDataFrame)\n",
    "        #print(\"The result is {}\".format(TF_MONO_result))\n",
    "        #print(\"------------------------------------------------------------\")\n",
    "        #print(j,tf, df_PostGlobalMONO['Global_Mono'].iloc[actual_index], TF_MONO_result)\n",
    "        \n",
    "        temp[0][actual_index] = TF_MONO_result\n",
    "        \n",
    "        # Coverting Temp Array into Data Frame\n",
    "#Modify here 6:\n",
    "    First_Result = pd.DataFrame(temp, columns = features)\n",
    "    First_Result = First_Result.astype(\"float16\")\n",
    "    temp = np.zeros((1,num_features), dtype=\"float16\")\n",
    "    \n",
    "    TF_MONO_TABLE = np.append(TF_MONO_TABLE, np.array(First_Result), axis=0)\n",
    "    \n",
    "    First_Result.drop(First_Result.index[:], inplace=True)\n",
    "# appending another dataframe as another row\n",
    "\n",
    "#TF_MONO_TABLE2 = pd.DataFrame(np.ones((1,29523)))\n",
    "\n",
    "#Modify here 7:\n",
    "\n",
    "#TF_MONO_TABLE = pd.DataFrame(Second_Result, columns = features)   \n",
    "TF_MONO_TABLE.shape"
   ]
  },
  {
   "cell_type": "markdown",
   "id": "cb7b6dce",
   "metadata": {},
   "source": [
    "# Save the as numpy array"
   ]
  },
  {
   "cell_type": "code",
   "execution_count": 17,
   "id": "2a9eb54f",
   "metadata": {},
   "outputs": [],
   "source": [
    "TF_MONO_TABLE = TF_MONO_TABLE.astype(\"float16\")\n",
    "\n",
    "np.save(\"SRTF-EMONO_3-3203.npy\",TF_MONO_TABLE)"
   ]
  },
  {
   "cell_type": "markdown",
   "id": "ee26aa3d",
   "metadata": {},
   "source": [
    "# Clear all values in array and dataframe"
   ]
  },
  {
   "cell_type": "code",
   "execution_count": 15,
   "id": "c52f545a",
   "metadata": {},
   "outputs": [
    {
     "data": {
      "text/plain": [
       "(1, 3203)"
      ]
     },
     "execution_count": 15,
     "metadata": {},
     "output_type": "execute_result"
    }
   ],
   "source": [
    "\n",
    "TF_MONO_TABLE = np.array([])\n",
    "\n",
    "#clear the array\n",
    "temp = np.zeros((1,num_features), dtype=\"float16\")\n",
    "temp.shape"
   ]
  },
  {
   "cell_type": "code",
   "execution_count": null,
   "id": "9aa29d9f",
   "metadata": {},
   "outputs": [],
   "source": []
  },
  {
   "cell_type": "code",
   "execution_count": null,
   "id": "62548578",
   "metadata": {},
   "outputs": [],
   "source": []
  },
  {
   "cell_type": "code",
   "execution_count": null,
   "id": "2558e186",
   "metadata": {},
   "outputs": [],
   "source": []
  },
  {
   "cell_type": "code",
   "execution_count": null,
   "id": "3a952180",
   "metadata": {},
   "outputs": [],
   "source": []
  },
  {
   "cell_type": "code",
   "execution_count": null,
   "id": "1d3f58b7",
   "metadata": {},
   "outputs": [],
   "source": []
  },
  {
   "cell_type": "code",
   "execution_count": null,
   "id": "79675ce8",
   "metadata": {},
   "outputs": [],
   "source": []
  }
 ],
 "metadata": {
  "kernelspec": {
   "display_name": "Python 3 (ipykernel)",
   "language": "python",
   "name": "python3"
  },
  "language_info": {
   "codemirror_mode": {
    "name": "ipython",
    "version": 3
   },
   "file_extension": ".py",
   "mimetype": "text/x-python",
   "name": "python",
   "nbconvert_exporter": "python",
   "pygments_lexer": "ipython3",
   "version": "3.7.5"
  }
 },
 "nbformat": 4,
 "nbformat_minor": 5
}
