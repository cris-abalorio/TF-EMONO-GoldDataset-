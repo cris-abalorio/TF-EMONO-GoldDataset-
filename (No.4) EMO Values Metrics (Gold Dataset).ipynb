{
 "cells": [
  {
   "cell_type": "code",
   "execution_count": 18,
   "id": "11cde4c5",
   "metadata": {},
   "outputs": [],
   "source": [
    "import numpy as np\n",
    "from sklearn.model_selection import train_test_split\n",
    "\n",
    "# 500 Features MONO\n",
    "a = np.load(\"SRTF-EMONO_3-3203.npy\")\n",
    "#X = np.concatenate((a[1:][:],a[1:1][:]), axis=0)\n",
    "#X = np.concatenate((a[1:][:],a[1:1][:]), axis=0)\n",
    "\n",
    "#print(a[1:][:])\n",
    "#print(a[1:][:1])\n",
    "#X = np.concatenate((a[1:][:],a[1:][:1]), axis=0)\n",
    "X = a[1:][:] #to deduct length\n",
    "#X = a #for exact length of rows\n",
    "\n",
    "\n"
   ]
  },
  {
   "cell_type": "code",
   "execution_count": 19,
   "id": "f9825ce7",
   "metadata": {},
   "outputs": [
    {
     "data": {
      "text/plain": [
       "(11412, 3203)"
      ]
     },
     "execution_count": 19,
     "metadata": {},
     "output_type": "execute_result"
    }
   ],
   "source": [
    "X.shape"
   ]
  },
  {
   "cell_type": "code",
   "execution_count": 20,
   "id": "e7f05dd3",
   "metadata": {},
   "outputs": [],
   "source": [
    "# 'reuters21578 _enc.txt' class label or y of 7125 rows \n",
    "y=np.genfromtxt('class_label.txt', delimiter=',', dtype='int32', skip_header=1)\n",
    "\n",
    "X_train, X_test, y_train, y_test = train_test_split(X, y, test_size=0.30, random_state=42)"
   ]
  },
  {
   "cell_type": "code",
   "execution_count": 21,
   "id": "0c23607b",
   "metadata": {},
   "outputs": [
    {
     "name": "stdout",
     "output_type": "stream",
     "text": [
      "micro F1: 0.7333528037383179\n",
      "macro F1: 0.68639136590181\n",
      "weighted F1: 0.7317632459005414\n"
     ]
    }
   ],
   "source": [
    "from sklearn.neighbors import KNeighborsClassifier\n",
    "neigh = KNeighborsClassifier(n_neighbors=5)\n",
    "neigh.fit(X_train,y_train)\n",
    "\n",
    "pred_y = neigh.predict(X_test)\n",
    "sum(pred_y == y_test)/y_test.shape\n",
    "\n",
    "from sklearn.metrics import f1_score\n",
    "from sklearn.metrics import accuracy_score\n",
    "\n",
    "#print(\"Accuracy: {}\".format(accuracy_score(y_test, pred_y)))\n",
    "print(\"micro F1: {}\".format(f1_score(y_test, pred_y, average='micro')))\n",
    "print(\"macro F1: {}\".format(f1_score(y_test, pred_y, average='macro')))\n",
    "print(\"weighted F1: {}\".format(f1_score(y_test, pred_y, average='weighted')))"
   ]
  },
  {
   "cell_type": "markdown",
   "id": "f3fd52a0",
   "metadata": {},
   "source": [
    "# SVM\n"
   ]
  },
  {
   "cell_type": "code",
   "execution_count": 22,
   "id": "a0347a1f",
   "metadata": {},
   "outputs": [
    {
     "name": "stdout",
     "output_type": "stream",
     "text": [
      "micro F1: 0.8180490654205609\n",
      "macro F1: 0.8050458841668999\n",
      "weighted F1: 0.8178503238662995\n"
     ]
    }
   ],
   "source": [
    "from sklearn import svm\n",
    "#alternative\n",
    "from sklearn.svm import LinearSVC\n",
    "clf = LinearSVC(random_state=0, tol=1e-5)\n",
    "clf.fit(X_train, y_train) \n",
    "pred_y = clf.predict(X_test)\n",
    "sum(pred_y == y_test)/y_test.shape\n",
    "\n",
    "from sklearn.metrics import f1_score\n",
    "from sklearn.metrics import accuracy_score\n",
    "#print(\"Accuracy: {}\".format(accuracy_score(y_test, pred_y)))\n",
    "print(\"micro F1: {}\".format(f1_score(y_test, pred_y, average='micro')))\n",
    "print(\"macro F1: {}\".format(f1_score(y_test, pred_y, average='macro')))\n",
    "print(\"weighted F1: {}\".format(f1_score(y_test, pred_y, average='weighted')))"
   ]
  },
  {
   "cell_type": "markdown",
   "id": "9e800898",
   "metadata": {},
   "source": [
    "# Multinomial Naive Bayes"
   ]
  },
  {
   "cell_type": "markdown",
   "id": "4f583260",
   "metadata": {},
   "source": [
    "# import numpy as np\n",
    "\n",
    "\n",
    "from sklearn.naive_bayes import MultinomialNB\n",
    "clf = MultinomialNB()\n",
    "clf.fit(X_train,y_train)\n",
    "pred_y = clf.predict(X_test)\n",
    "sum(pred_y == y_test)/y_test.shape\n",
    "\n",
    "from sklearn.metrics import f1_score\n",
    "from sklearn.metrics import accuracy_score\n",
    "#print(\"Accuracy: {}\".format(accuracy_score(y_test, pred_y)))\n",
    "print(\"micro F1: {}\".format(f1_score(y_test, pred_y, average='micro')))\n",
    "print(\"macro F1: {}\".format(f1_score(y_test, pred_y, average='macro')))\n",
    "print(\"weighted F1: {}\".format(f1_score(y_test, pred_y, average='weighted')))\n"
   ]
  },
  {
   "cell_type": "code",
   "execution_count": null,
   "id": "79e985d5",
   "metadata": {},
   "outputs": [],
   "source": []
  },
  {
   "cell_type": "code",
   "execution_count": null,
   "id": "71a50ed3",
   "metadata": {},
   "outputs": [],
   "source": []
  }
 ],
 "metadata": {
  "kernelspec": {
   "display_name": "Python 3 (ipykernel)",
   "language": "python",
   "name": "python3"
  },
  "language_info": {
   "codemirror_mode": {
    "name": "ipython",
    "version": 3
   },
   "file_extension": ".py",
   "mimetype": "text/x-python",
   "name": "python",
   "nbconvert_exporter": "python",
   "pygments_lexer": "ipython3",
   "version": "3.7.5"
  }
 },
 "nbformat": 4,
 "nbformat_minor": 5
}
